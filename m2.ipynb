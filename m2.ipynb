{
 "cells": [
  {
   "cell_type": "code",
   "execution_count": 10,
   "metadata": {},
   "outputs": [
    {
     "name": "stdout",
     "output_type": "stream",
     "text": [
      "1\n",
      "1\n",
      "4\n",
      "* * * *\n",
      "0\n",
      "\n",
      "\n"
     ]
    }
   ],
   "source": [
    "q=int(input())\n",
    "def min(a,b):\n",
    "    if a>b:\n",
    "        return b\n",
    "    else:\n",
    "        return a\n",
    "for i in range(q):\n",
    "    n=int(input())\n",
    "    m=int(input())\n",
    "    s=list(\"a\"*n)\n",
    "    for i in range(n):\n",
    "        s[i]=input()\n",
    "    cn=list( range(n))\n",
    "    cm=list(range(m))\n",
    "    for i in range (n):\n",
    "        for j in range(n):\n",
    "            cn[i]=cn[i]+(s[i][j]=='.')\n",
    "            cm[j]=cm[j]+(s[i][j]=='.')\n",
    "    ans=m+n\n",
    "    for i in range (n):\n",
    "        for j in range(m):\n",
    "            ans=min(ans,( cn[i] + cm[j] - (s[i][j] == '.')))\n",
    "    print(ans)\n",
    "    print(\"\\n\")"
   ]
  },
  {
   "cell_type": "code",
   "execution_count": null,
   "metadata": {},
   "outputs": [],
   "source": []
  }
 ],
 "metadata": {
  "kernelspec": {
   "display_name": "Python 3",
   "language": "python",
   "name": "python3"
  },
  "language_info": {
   "codemirror_mode": {
    "name": "ipython",
    "version": 3
   },
   "file_extension": ".py",
   "mimetype": "text/x-python",
   "name": "python",
   "nbconvert_exporter": "python",
   "pygments_lexer": "ipython3",
   "version": "3.7.4"
  }
 },
 "nbformat": 4,
 "nbformat_minor": 2
}
