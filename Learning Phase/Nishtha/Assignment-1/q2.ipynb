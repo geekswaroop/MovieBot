{
 "cells": [
  {
   "cell_type": "code",
   "execution_count": null,
   "metadata": {},
   "outputs": [
    {
     "name": "stdout",
     "output_type": "stream",
     "text": [
      "4\n",
      "10 1 3\n",
      "10\n",
      "7 3 2\n",
      "9\n",
      "1 10000 1\n",
      "10000\n"
     ]
    }
   ],
   "source": [
    "t=int(input())\n",
    "for i in range(t):\n",
    "    my_list=list(map(int, input().split()))\n",
    "    a=my_list[0]\n",
    "    b=my_list[1]\n",
    "    c=my_list[2]\n",
    "    res=0\n",
    "    \n",
    "    if 2*b<=c:\n",
    "      res=a*b\n",
    "    else :\n",
    "      res=(a//2)*c+(a%2)*b\n",
    "    print (res)\n",
    "      "
   ]
  },
  {
   "cell_type": "code",
   "execution_count": null,
   "metadata": {},
   "outputs": [],
   "source": []
  }
 ],
 "metadata": {
  "kernelspec": {
   "display_name": "Python 3",
   "language": "python",
   "name": "python3"
  },
  "language_info": {
   "codemirror_mode": {
    "name": "ipython",
    "version": 3
   },
   "file_extension": ".py",
   "mimetype": "text/x-python",
   "name": "python",
   "nbconvert_exporter": "python",
   "pygments_lexer": "ipython3",
   "version": "3.7.4"
  }
 },
 "nbformat": 4,
 "nbformat_minor": 2
}
