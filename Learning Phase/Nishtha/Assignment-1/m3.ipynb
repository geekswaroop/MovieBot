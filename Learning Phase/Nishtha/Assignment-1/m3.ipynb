{
 "cells": [
  {
   "cell_type": "code",
   "execution_count": 1,
   "metadata": {},
   "outputs": [
    {
     "name": "stdout",
     "output_type": "stream",
     "text": [
      "2\n",
      "12\n",
      "1 2 3 5 6 8 9 10 11 12 15 17\n",
      "1...3,5,,8...12,15,17\n",
      "\n",
      "1 \n",
      "4\n",
      "4\n",
      "\n"
     ]
    }
   ],
   "source": [
    "t=int(input())\n",
    "for i in range (t):\n",
    "    n=int(input())\n",
    "    a=list(map(int,input().split()))\n",
    "    \n",
    "    i=0\n",
    "    while i<n:\n",
    "        j=i\n",
    "        ll=1\n",
    "        while j<n-1:\n",
    "            if a[j+1]==a[j]+1:\n",
    "                j=j+1\n",
    "                ll=ll+1\n",
    "            if a[j+1]!=a[j]+1:\n",
    "                break\n",
    "        if ll>=3:\n",
    "            print (a[i],end=\"\")\n",
    "            print(\"...\",end=\"\")\n",
    "            print(a[j],end=\"\")\n",
    "            if j!=n-1:\n",
    "                print (\",\",end=\"\")\n",
    "        elif ll==2:\n",
    "            print(a[i],end=\"\")\n",
    "            print(\",\",end=\"\")\n",
    "            if j!=n-1:\n",
    "                print (\",\",end=\"\")\n",
    "        else:\n",
    "            print(a[j],end=\"\")\n",
    "            if j!=n-1:\n",
    "                print(\",\",end=\"\")\n",
    "        i=j+1\n",
    "    \n",
    "    print(\"\\n\")\n",
    "                \n",
    "      "
   ]
  },
  {
   "cell_type": "code",
   "execution_count": null,
   "metadata": {},
   "outputs": [],
   "source": []
  }
 ],
 "metadata": {
  "kernelspec": {
   "display_name": "Python 3",
   "language": "python",
   "name": "python3"
  },
  "language_info": {
   "codemirror_mode": {
    "name": "ipython",
    "version": 3
   },
   "file_extension": ".py",
   "mimetype": "text/x-python",
   "name": "python",
   "nbconvert_exporter": "python",
   "pygments_lexer": "ipython3",
   "version": "3.7.4"
  }
 },
 "nbformat": 4,
 "nbformat_minor": 2
}
