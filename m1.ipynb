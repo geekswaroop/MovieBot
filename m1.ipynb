{
 "cells": [
  {
   "cell_type": "code",
   "execution_count": 8,
   "metadata": {
    "scrolled": true
   },
   "outputs": [
    {
     "name": "stdout",
     "output_type": "stream",
     "text": [
      "5\n",
      "6 1 6 6 0\n",
      "2\n"
     ]
    }
   ],
   "source": [
    "n=int(input())\n",
    "\n",
    "def max(a,b):\n",
    "    if a>b:\n",
    "     return a\n",
    "    else:\n",
    "     return b\n",
    "\n",
    "\n",
    "x,y=-1,0\n",
    "m=-1\n",
    "ml=0\n",
    "my_list=list(map(int, input().split()))\n",
    "for i in range (n):\n",
    "    a=my_list[i]\n",
    "    if x!=a:\n",
    "        x=a\n",
    "        y=0\n",
    "    y=y+1\n",
    "    if m<x:\n",
    "        m=x\n",
    "        ml=0\n",
    "    if m==x:\n",
    "        ml=max(ml,y)\n",
    "print( ml)"
   ]
  },
  {
   "cell_type": "code",
   "execution_count": null,
   "metadata": {},
   "outputs": [],
   "source": []
  },
  {
   "cell_type": "code",
   "execution_count": null,
   "metadata": {},
   "outputs": [],
   "source": []
  }
 ],
 "metadata": {
  "kernelspec": {
   "display_name": "Python 3",
   "language": "python",
   "name": "python3"
  },
  "language_info": {
   "codemirror_mode": {
    "name": "ipython",
    "version": 3
   },
   "file_extension": ".py",
   "mimetype": "text/x-python",
   "name": "python",
   "nbconvert_exporter": "python",
   "pygments_lexer": "ipython3",
   "version": "3.7.4"
  }
 },
 "nbformat": 4,
 "nbformat_minor": 2
}
